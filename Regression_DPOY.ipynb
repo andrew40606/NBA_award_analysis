{
 "cells": [
  {
   "cell_type": "markdown",
   "id": "2148e1bb",
   "metadata": {},
   "source": [
    "# DPOY Award Prediction"
   ]
  },
  {
   "cell_type": "markdown",
   "id": "1c08fa9b",
   "metadata": {},
   "source": [
    "## Data Preprocessing"
   ]
  },
  {
   "cell_type": "markdown",
   "id": "c3ada55e",
   "metadata": {},
   "source": [
    "Import general preprocessed data"
   ]
  },
  {
   "cell_type": "code",
   "execution_count": 1,
   "id": "7d909c50",
   "metadata": {},
   "outputs": [],
   "source": [
    "%run Preprocessing_main.ipynb"
   ]
  },
  {
   "cell_type": "code",
   "execution_count": 2,
   "id": "0882dda6",
   "metadata": {},
   "outputs": [],
   "source": [
    "DPOY_data['G_x'] = DPOY_data['G_x'].astype(int)"
   ]
  },
  {
   "cell_type": "markdown",
   "id": "b4b62449",
   "metadata": {},
   "source": [
    "Dropping redundant columns (columns having correlation over 90%)"
   ]
  },
  {
   "cell_type": "code",
   "execution_count": 3,
   "id": "bd3b8f2f",
   "metadata": {},
   "outputs": [],
   "source": [
    "def drop_col(data):\n",
    "    corr = data.corr()\n",
    "    NEW_data = data\n",
    "    del_list = []\n",
    "    del_col = []\n",
    "    for i in corr:\n",
    "        for ind in corr[(corr[i]>0.9)&(corr[i]<1)].index:\n",
    "            if ind not in del_list:\n",
    "                try:\n",
    "                    NEW_data = NEW_data.drop(ind, axis = 1)\n",
    "                    del_col.append(ind)\n",
    "                except:\n",
    "                    continue\n",
    "        del_list.append(i)\n",
    "    NEW_data = NEW_data.drop('Player', axis = 1)\n",
    "    return NEW_data, del_col"
   ]
  },
  {
   "cell_type": "code",
   "execution_count": 4,
   "id": "32094b5d",
   "metadata": {
    "scrolled": true
   },
   "outputs": [],
   "source": [
    "NEW_data, del_list = drop_col(DPOY_data)"
   ]
  },
  {
   "cell_type": "markdown",
   "id": "217e973f",
   "metadata": {},
   "source": [
    "### Standardize for analysis"
   ]
  },
  {
   "cell_type": "code",
   "execution_count": 5,
   "id": "fdfbd733",
   "metadata": {},
   "outputs": [],
   "source": [
    "# standardize through years\n",
    "def std_scale_split(data, year_names):\n",
    "    scaler = StandardScaler()\n",
    "    X_train_result = pd.DataFrame()\n",
    "    X_test_result = pd.DataFrame()\n",
    "    y_train_result = pd.DataFrame()\n",
    "    y_test_result = pd.DataFrame()\n",
    "    for i in year_names:\n",
    "        \n",
    "        data_year = data[data['year_y']==i]\n",
    "        data_year = data_year.drop(columns='year_y')\n",
    "        \n",
    "        X = data_year.iloc[:, :-1]\n",
    "        y = data_year.iloc[:, -1]\n",
    "\n",
    "        X_train, X_test, y_train, y_test = train_test_split(X, y, test_size = 0.25, random_state = 1)\n",
    "        train_scaled = scaler.fit_transform(X_train)\n",
    "        test_scaled = scaler.transform(X_test)\n",
    "        \n",
    "        X_train_result = pd.concat([X_train_result, pd.DataFrame(train_scaled)])\n",
    "        X_test_result = pd.concat([X_test_result, pd.DataFrame(test_scaled)])\n",
    "        y_train_result = pd.concat([y_train_result, y_train])\n",
    "        y_test_result = pd.concat([y_test_result, y_test])\n",
    "        \n",
    "    return X_train_result, X_test_result, y_train_result, y_test_result\n",
    "\n",
    "X_train, X_test, y_train, y_test = std_scale_split(NEW_data, year_names)"
   ]
  },
  {
   "cell_type": "markdown",
   "id": "0429a54f",
   "metadata": {},
   "source": [
    "## Model Implementation"
   ]
  },
  {
   "cell_type": "markdown",
   "id": "d0054cbf",
   "metadata": {},
   "source": [
    "### Model 1 : Linear Regression"
   ]
  },
  {
   "cell_type": "code",
   "execution_count": 6,
   "id": "e7ea7ede",
   "metadata": {
    "scrolled": true
   },
   "outputs": [
    {
     "name": "stdout",
     "output_type": "stream",
     "text": [
      "\n",
      "Regression statistics\n",
      "\n",
      "                      Mean Error (ME) : 0.0000\n",
      "       Root Mean Squared Error (RMSE) : 0.1664\n",
      "            Mean Absolute Error (MAE) : 0.1186\n",
      "          Mean Percentage Error (MPE) : -534.6338\n",
      "Mean Absolute Percentage Error (MAPE) : 1202.6080\n",
      "\n",
      "Regression statistics\n",
      "\n",
      "                      Mean Error (ME) : -0.0685\n",
      "       Root Mean Squared Error (RMSE) : 0.1746\n",
      "            Mean Absolute Error (MAE) : 0.1274\n",
      "          Mean Percentage Error (MPE) : -864.1461\n",
      "Mean Absolute Percentage Error (MAPE) : 1515.2021\n"
     ]
    }
   ],
   "source": [
    "regressor = LinearRegression()\n",
    "regressor.fit(X_train, y_train)\n",
    "\n",
    "y_pred = regressor.predict(X_test)\n",
    "y_train_pred = regressor.predict(X_train)\n",
    "\n",
    "regressionSummary(y_train, y_train_pred)\n",
    "regressionSummary(y_test, y_pred)\n",
    "lin_mse = mean_squared_error(y_test, y_pred)\n",
    "comp = pd.DataFrame({0: y_test[0], 1: y_pred.reshape(len(y_pred))})\n",
    "y_pred_sorted = comp.sort_values(1, ascending=False)[0]\n",
    "y_pred_lin = y_pred_sorted"
   ]
  },
  {
   "cell_type": "code",
   "execution_count": 7,
   "id": "06d3409e",
   "metadata": {},
   "outputs": [],
   "source": [
    "cor = np.corrcoef(np.array(y_test).reshape(len(y_test)), np.array(y_pred).reshape(len(y_pred)))\n",
    "lin_cor = cor[1, 0]"
   ]
  },
  {
   "cell_type": "markdown",
   "id": "c83e9cd5",
   "metadata": {},
   "source": [
    "### Model 2 : Support Vector Regression"
   ]
  },
  {
   "cell_type": "code",
   "execution_count": 8,
   "id": "8dccf23f",
   "metadata": {},
   "outputs": [
    {
     "name": "stdout",
     "output_type": "stream",
     "text": [
      "\n",
      "Regression statistics\n",
      "\n",
      "                      Mean Error (ME) : -0.0220\n",
      "       Root Mean Squared Error (RMSE) : 0.0948\n",
      "            Mean Absolute Error (MAE) : 0.0766\n",
      "          Mean Percentage Error (MPE) : -723.8023\n",
      "Mean Absolute Percentage Error (MAPE) : 975.7261\n",
      "\n",
      "Regression statistics\n",
      "\n",
      "                      Mean Error (ME) : -0.0692\n",
      "       Root Mean Squared Error (RMSE) : 0.1424\n",
      "            Mean Absolute Error (MAE) : 0.1031\n",
      "          Mean Percentage Error (MPE) : -1083.5580\n",
      "Mean Absolute Percentage Error (MAPE) : 1229.5596\n"
     ]
    }
   ],
   "source": [
    "regressor = SVR()\n",
    "regressor.fit(X = X_train, y = y_train)\n",
    "y_pred = regressor.predict(X_test)\n",
    "y_train_pred = regressor.predict(X_train)\n",
    "regressionSummary(y_train, y_train_pred)\n",
    "regressionSummary(y_test, y_pred)\n",
    "SVR_mse = mean_squared_error(y_test, y_pred)\n",
    "comp = pd.DataFrame({0: y_test[0], 1: y_pred.reshape(len(y_pred))})\n",
    "y_pred_sorted = comp.sort_values(1, ascending=False)[0]\n",
    "y_pred_SVR = y_pred_sorted"
   ]
  },
  {
   "cell_type": "code",
   "execution_count": 9,
   "id": "7ca9d376",
   "metadata": {},
   "outputs": [],
   "source": [
    "cor = np.corrcoef(np.array(y_test).reshape(len(y_test)), np.array(y_pred).reshape(len(y_pred)))\n",
    "SVR_cor = cor[1, 0]"
   ]
  },
  {
   "cell_type": "markdown",
   "id": "2b77df3c",
   "metadata": {},
   "source": [
    "### Model 3 : Decision Tree Regression"
   ]
  },
  {
   "cell_type": "code",
   "execution_count": 10,
   "id": "b06f7e1c",
   "metadata": {},
   "outputs": [
    {
     "name": "stdout",
     "output_type": "stream",
     "text": [
      "alpha: 0.0000, CORR: 0.3271\n"
     ]
    }
   ],
   "source": [
    "fin_alpha = 0\n",
    "min_mse = 1E20\n",
    "fin_cor = -1\n",
    "for alpha in np.linspace(0, 0.5, 21):\n",
    "    regressor = DecisionTreeRegressor(ccp_alpha = alpha, random_state = 1)\n",
    "    regressor.fit(X = X_train, y = np.array(y_train).reshape(len(y_train), ))\n",
    "    y_pred = regressor.predict(X_test)\n",
    "    y_train_pred = regressor.predict(X_train)\n",
    "    MSE = mean_squared_error(y_test, y_pred)\n",
    "    cor = np.corrcoef(np.array(y_test).reshape(len(y_test)), np.array(y_pred).reshape(len(y_pred)))\n",
    "    if cor[1, 0] > fin_cor:\n",
    "        fin_alpha = alpha\n",
    "        fin_cor = cor[1, 0]\n",
    "        y_pred_tree = y_pred\n",
    "print('alpha: {:1.4f}, CORR: {:1.4f}'.format(fin_alpha, fin_cor))\n",
    "tree_cor = fin_cor\n",
    "comp = pd.DataFrame({0: y_test[0], 1: y_pred_tree.reshape(len(y_pred_tree))})\n",
    "y_pred_sorted = comp.sort_values(1, ascending=False)[0]\n",
    "y_pred_tree = y_pred_sorted"
   ]
  },
  {
   "cell_type": "markdown",
   "id": "b687b9f2",
   "metadata": {},
   "source": [
    "### Model 4 : Random Forest Regression"
   ]
  },
  {
   "cell_type": "code",
   "execution_count": 11,
   "id": "0a224234",
   "metadata": {},
   "outputs": [
    {
     "name": "stdout",
     "output_type": "stream",
     "text": [
      "alpha: 0.0000, N_estimator: 100.0 CORR: 0.3815\n"
     ]
    }
   ],
   "source": [
    "min_mse = 1E20\n",
    "fin_alpha = 0\n",
    "fin_NE = 0\n",
    "fin_cor = -1\n",
    "\n",
    "for alpha in np.linspace(0, 0.5, 11):\n",
    "    for n_e  in np.linspace(10, 100, 10):\n",
    "        regressor = RandomForestRegressor(n_estimators = int(n_e), ccp_alpha = alpha, random_state = 1)\n",
    "        regressor.fit(X = X_train, y = np.array(y_train).reshape(len(y_train), ))\n",
    "        y_pred = regressor.predict(X_test)\n",
    "        y_train_pred = regressor.predict(X_train)\n",
    "        MSE = mean_squared_error(y_test, y_pred)\n",
    "        cor = np.corrcoef(np.array(y_test).reshape(len(y_test)), np.array(y_pred).reshape(len(y_pred)))\n",
    "        if cor[1, 0] > fin_cor:\n",
    "            fin_alpha = alpha\n",
    "            fin_cor = cor[1, 0]\n",
    "            fin_NE = n_e\n",
    "            y_pred_for = y_pred\n",
    "            \n",
    "print('alpha: {:1.4f}, N_estimator: {} CORR: {:1.4f}'.format(fin_alpha, fin_NE, fin_cor))\n",
    "for_cor = fin_cor\n",
    "comp = pd.DataFrame({0: y_test[0], 1: y_pred_for.reshape(len(y_pred_for))})\n",
    "y_pred_sorted = comp.sort_values(1, ascending=False)[0]\n",
    "y_pred_for = y_pred_sorted"
   ]
  },
  {
   "cell_type": "markdown",
   "id": "99e00c2d",
   "metadata": {},
   "source": [
    "### Model 5 : Neural Network"
   ]
  },
  {
   "cell_type": "markdown",
   "id": "ddbf2737",
   "metadata": {},
   "source": [
    "Scaling data into [0, 1] for neural network"
   ]
  },
  {
   "cell_type": "code",
   "execution_count": 12,
   "id": "cf6063ae",
   "metadata": {},
   "outputs": [],
   "source": [
    "# minmax scale through years\n",
    "def nor_scale_split(data, year_names):\n",
    "    scaler = MinMaxScaler()\n",
    "\n",
    "    X_train_result = pd.DataFrame()\n",
    "    X_test_result = pd.DataFrame()\n",
    "    y_train_result = pd.DataFrame()\n",
    "    y_test_result = pd.DataFrame()\n",
    "    for i in year_names:\n",
    "        \n",
    "        data_year = data[data['year_y']==i]\n",
    "        data_year = data_year.drop(columns='year_y')\n",
    "        \n",
    "        X = data_year.iloc[:, :-1]\n",
    "        y = data_year.iloc[:, -1]\n",
    "        \n",
    "        X_train, X_test, y_train, y_test = train_test_split(X, y, test_size = 0.25, random_state = 1)\n",
    "        train_scaled = scaler.fit_transform(X_train)\n",
    "        test_scaled = scaler.transform(X_test)\n",
    "        \n",
    "        X_train_result = pd.concat([X_train_result, pd.DataFrame(train_scaled)])\n",
    "        X_test_result = pd.concat([X_test_result, pd.DataFrame(test_scaled)])\n",
    "        y_train_result = pd.concat([y_train_result, y_train])\n",
    "        y_test_result = pd.concat([y_test_result, y_test])\n",
    "        \n",
    "    return X_train_result, X_test_result, y_train_result, y_test_result\n",
    "\n",
    "X_train, X_test, y_train, y_test = nor_scale_split(NEW_data, year_names)"
   ]
  },
  {
   "cell_type": "code",
   "execution_count": 13,
   "id": "47855bef",
   "metadata": {
    "scrolled": true
   },
   "outputs": [
    {
     "name": "stdout",
     "output_type": "stream",
     "text": [
      "layer size: 10.0000, batch size: 65.0000, CORR: 0.5252\n"
     ]
    }
   ],
   "source": [
    "best_cor = 0\n",
    "best_bat = [0, 0]\n",
    "best_size = [0, 0]\n",
    "for size1 in [int(i) for i in np.linspace(5, 20, 16)]:\n",
    "    for bat in [int(i) for i in np.linspace(0, 100, 21)]:\n",
    "        NNRegressor = MLPRegressor(hidden_layer_sizes = (size1), batch_size = bat, \n",
    "                                   activation = 'logistic', random_state= 1)\n",
    "        NNRegressor.fit(X_train, y_train)\n",
    "        y_pred = NNRegressor.predict(X_test)\n",
    "        NN_cor = np.corrcoef(np.array(y_test).reshape(len(y_test)), np.array(y_pred).reshape(len(y_pred)))\n",
    "        NN_cor = NN_cor[1, 0]\n",
    "        if NN_cor > best_cor:\n",
    "            best_cor = NN_cor\n",
    "            best_size[0] = size1\n",
    "            best_bat[0] = bat\n",
    "            y_pred_NN = y_pred\n",
    "print('layer size: {:1.4f}, batch size: {:1.4f}, CORR: {:1.4f}'.format(best_size[0], best_bat[0], best_cor))\n",
    "NN_cor = best_cor\n",
    "comp = pd.DataFrame({0: y_test[0], 1: y_pred_NN.reshape(len(y_pred_NN))})\n",
    "y_pred_sorted = comp.sort_values(1, ascending=False)[0]\n",
    "y_pred_NN = y_pred_sorted"
   ]
  },
  {
   "cell_type": "markdown",
   "id": "8141c099",
   "metadata": {},
   "source": [
    "### Model Comparison Using Correlation Coefficient and Lift Chart"
   ]
  },
  {
   "cell_type": "code",
   "execution_count": 14,
   "id": "1e475a20",
   "metadata": {},
   "outputs": [
    {
     "name": "stdout",
     "output_type": "stream",
     "text": [
      "Linear regression: 0.3733\n",
      "SVR: 0.4674\n",
      "Decision tree: 0.3271\n",
      "Random forest: 0.3815\n",
      "Neural Network: 0.5252\n"
     ]
    }
   ],
   "source": [
    "print('Linear regression: {:1.4f}'.format(lin_cor))\n",
    "print('SVR: {:1.4f}'.format(SVR_cor))\n",
    "print('Decision tree: {:1.4f}'.format(tree_cor))\n",
    "print('Random forest: {:1.4f}'.format(for_cor))\n",
    "print('Neural Network: {:1.4f}'.format(NN_cor))"
   ]
  },
  {
   "cell_type": "code",
   "execution_count": 15,
   "id": "22cf8c22",
   "metadata": {
    "scrolled": false
   },
   "outputs": [
    {
     "data": {
      "image/png": "[encoded data removed]",
      "text/plain": [
       "<Figure size 576x432 with 1 Axes>"
      ]
     },
     "metadata": {
      "needs_background": "light"
     },
     "output_type": "display_data"
    }
   ],
   "source": [
    "ax = gainsChart(pd.Series(y_pred_lin), label = 'Linear Regression',figsize = [8, 6], color = 'C0')\n",
    "ax = gainsChart(pd.Series(y_pred_SVR), label = 'SVR', ax = ax, color = 'C1')\n",
    "ax = gainsChart(pd.Series(y_pred_tree), label = 'Decision Tree', ax = ax, color = 'C2')\n",
    "ax = gainsChart(pd.Series(y_pred_for), label = 'Forest', ax = ax, color = 'C3')\n",
    "ax = gainsChart(pd.Series(y_pred_NN), label = 'Neural Network', ax = ax, color = 'C4')\n",
    "plt.title('DPOY Award Prediction Lift Chart')\n",
    "plt.legend()\n",
    "plt.show()"
   ]
  },
  {
   "cell_type": "markdown",
   "id": "11329bb9",
   "metadata": {},
   "source": [
    "# Evaluation"
   ]
  },
  {
   "cell_type": "markdown",
   "id": "98cbbb2d",
   "metadata": {},
   "source": [
    "## Random Forest Regression"
   ]
  },
  {
   "cell_type": "markdown",
   "id": "90eb5cd4",
   "metadata": {},
   "source": [
    "### Summary"
   ]
  },
  {
   "cell_type": "code",
   "execution_count": 16,
   "id": "f1b0219b",
   "metadata": {},
   "outputs": [
    {
     "name": "stdout",
     "output_type": "stream",
     "text": [
      "Model: Random Forest Regression\n",
      "\n",
      "\n",
      "Regression statistics\n",
      "\n",
      "                      Mean Error (ME) : -0.0663\n",
      "       Root Mean Squared Error (RMSE) : 0.1479\n",
      "            Mean Absolute Error (MAE) : 0.1014\n",
      "          Mean Percentage Error (MPE) : -821.1308\n",
      "Mean Absolute Percentage Error (MAPE) : 837.2573\n",
      "\n",
      "CORR: 0.3815\n",
      "RMSE: 0.1479\n"
     ]
    }
   ],
   "source": [
    "# preprocessing\n",
    "X_train, X_test, y_train, y_test = std_scale_split(NEW_data, year_names)\n",
    "\n",
    "# build model\n",
    "regressor = RandomForestRegressor(n_estimators = 100, ccp_alpha = 0, random_state = 1)\n",
    "regressor.fit(X_train, y_train)\n",
    "\n",
    "# model summary\n",
    "y_pred = regressor.predict(X_test)\n",
    "y_train_pred = regressor.predict(X_train)\n",
    "\n",
    "print('Model: Random Forest Regression\\n')\n",
    "regressionSummary(y_test, y_pred)\n",
    "\n",
    "# evaluations\n",
    "cor = np.corrcoef(np.array(y_test).reshape(len(y_test)), np.array(y_pred).reshape(len(y_pred)))\n",
    "for_cor = cor[1, 0]\n",
    "\n",
    "for_RMSE = mean_squared_error(np.array(y_test).reshape(len(y_test)), np.array(y_pred).reshape(len(y_pred)))**0.5\n",
    "print('\\nCORR: {:1.4f}'.format(for_cor))\n",
    "print('RMSE: {:1.4f}'.format(for_RMSE))"
   ]
  },
  {
   "cell_type": "markdown",
   "id": "c5dfadb5",
   "metadata": {},
   "source": [
    "### Visualization"
   ]
  },
  {
   "cell_type": "code",
   "execution_count": 17,
   "id": "855416f2",
   "metadata": {
    "scrolled": true
   },
   "outputs": [
    {
     "data": {
      "image/png": "[encoded data removed]",
      "text/plain": [
       "<Figure size 432x288 with 1 Axes>"
      ]
     },
     "metadata": {
      "needs_background": "light"
     },
     "output_type": "display_data"
    }
   ],
   "source": [
    "ax = gainsChart(pd.Series(y_pred_for), label = 'Random Forest')\n",
    "plt.title('Random Forest Gains Chart')\n",
    "plt.show()"
   ]
  },
  {
   "cell_type": "markdown",
   "id": "81f0240d",
   "metadata": {},
   "source": [
    "### Prediction"
   ]
  },
  {
   "cell_type": "code",
   "execution_count": 18,
   "id": "91e133bc",
   "metadata": {},
   "outputs": [],
   "source": [
    "data_2022['G_x'] = data_2022['G_x'].astype(int)\n",
    "NEW_2022 = data_2022.drop(del_list, axis = 1)\n",
    "NEW_2022 = NEW_2022.drop('Rk', axis = 1)\n",
    "player_list = NEW_2022['Player']\n",
    "NEW_2022 = NEW_2022.drop('Player', axis = 1)"
   ]
  },
  {
   "cell_type": "code",
   "execution_count": 19,
   "id": "c30064e3",
   "metadata": {},
   "outputs": [],
   "source": [
    "scaler = StandardScaler()\n",
    "scaled_2022 = scaler.fit_transform(NEW_2022)\n",
    "pred_22_for = regressor.predict(scaled_2022)"
   ]
  },
  {
   "cell_type": "markdown",
   "id": "b0a62ad6",
   "metadata": {},
   "source": [
    "## Neural network"
   ]
  },
  {
   "cell_type": "code",
   "execution_count": 20,
   "id": "0c6a793a",
   "metadata": {},
   "outputs": [
    {
     "name": "stdout",
     "output_type": "stream",
     "text": [
      "Model: Neural network\n",
      "\n",
      "\n",
      "Regression statistics\n",
      "\n",
      "                      Mean Error (ME) : -0.0320\n",
      "       Root Mean Squared Error (RMSE) : 0.0895\n",
      "            Mean Absolute Error (MAE) : 0.0713\n",
      "          Mean Percentage Error (MPE) : -885.8196\n",
      "Mean Absolute Percentage Error (MAPE) : 996.8723\n",
      "\n",
      "CORR: 0.5252\n",
      "RMSE: 0.0895\n"
     ]
    }
   ],
   "source": [
    "# preprocessing\n",
    "X_train, X_test, y_train, y_test = nor_scale_split(NEW_data, year_names)\n",
    "\n",
    "# build model\n",
    "NN = MLPRegressor(hidden_layer_sizes = (10), batch_size = 65, \n",
    "                                   activation = 'logistic', random_state= 1)\n",
    "NN.fit(X_train, y_train)\n",
    "\n",
    "# model summary\n",
    "y_pred = NN.predict(X_test)\n",
    "y_train_pred = NN.predict(X_train)\n",
    "\n",
    "print('Model: Neural network\\n')\n",
    "regressionSummary(y_test, y_pred)\n",
    "\n",
    "# evaluations\n",
    "cor = np.corrcoef(np.array(y_test).reshape(len(y_test)), np.array(y_pred).reshape(len(y_pred)))\n",
    "NN_cor = cor[1, 0]\n",
    "\n",
    "NN_R2 = r2_score(np.array(y_test).reshape(len(y_test)), np.array(y_pred).reshape(len(y_pred)))\n",
    "\n",
    "NN_RMSE = mean_squared_error(np.array(y_test).reshape(len(y_test)), np.array(y_pred).reshape(len(y_pred)))**0.5\n",
    "print('\\nCORR: {:1.4f}'.format(NN_cor))\n",
    "print('RMSE: {:1.4f}'.format(NN_RMSE))"
   ]
  },
  {
   "cell_type": "markdown",
   "id": "9304f31f",
   "metadata": {},
   "source": [
    "### Visualization"
   ]
  },
  {
   "cell_type": "code",
   "execution_count": 21,
   "id": "8fbc0d5a",
   "metadata": {
    "scrolled": true
   },
   "outputs": [
    {
     "data": {
      "image/png": "[encoded data removed]",
      "text/plain": [
       "<Figure size 432x288 with 1 Axes>"
      ]
     },
     "metadata": {
      "needs_background": "light"
     },
     "output_type": "display_data"
    }
   ],
   "source": [
    "ax = gainsChart(pd.Series(y_pred_NN), label = 'Neural Network')\n",
    "plt.title('Neural Network Gains Chart (layer size: 8, batch size: 45)')\n",
    "plt.show()"
   ]
  },
  {
   "cell_type": "markdown",
   "id": "ddccd222",
   "metadata": {},
   "source": [
    "### Prediction"
   ]
  },
  {
   "cell_type": "code",
   "execution_count": 22,
   "id": "c5a8ec7f",
   "metadata": {},
   "outputs": [],
   "source": [
    "scaler = MinMaxScaler()\n",
    "scaled_2022 = scaler.fit_transform(NEW_2022)\n",
    "pred_22_NN = NN.predict(scaled_2022)"
   ]
  },
  {
   "cell_type": "markdown",
   "id": "5b5a8a9a",
   "metadata": {},
   "source": [
    "# Prediction Results"
   ]
  },
  {
   "cell_type": "code",
   "execution_count": 23,
   "id": "c89abc21",
   "metadata": {},
   "outputs": [],
   "source": [
    "NEW_2022['Player'] = player_list\n",
    "NEW_2022['share_NN'] = pred_22_NN\n",
    "NEW_2022['share_for'] = pred_22_for"
   ]
  },
  {
   "cell_type": "markdown",
   "id": "59bcb590",
   "metadata": {},
   "source": [
    "#### Neural Network prediction"
   ]
  },
  {
   "cell_type": "code",
   "execution_count": 24,
   "id": "113f3c76",
   "metadata": {},
   "outputs": [
    {
     "data": {
      "text/html": [
       "<div>\n",
       "<style scoped>\n",
       "    .dataframe tbody tr th:only-of-type {\n",
       "        vertical-align: middle;\n",
       "    }\n",
       "\n",
       "    .dataframe tbody tr th {\n",
       "        vertical-align: top;\n",
       "    }\n",
       "\n",
       "    .dataframe thead th {\n",
       "        text-align: right;\n",
       "    }\n",
       "</style>\n",
       "<table border=\"1\" class=\"dataframe\">\n",
       "  <thead>\n",
       "    <tr style=\"text-align: right;\">\n",
       "      <th></th>\n",
       "      <th>Player</th>\n",
       "      <th>share_NN</th>\n",
       "    </tr>\n",
       "  </thead>\n",
       "  <tbody>\n",
       "    <tr>\n",
       "      <th>455</th>\n",
       "      <td>Rudy Gobert\\goberru01</td>\n",
       "      <td>0.232049</td>\n",
       "    </tr>\n",
       "    <tr>\n",
       "      <th>715</th>\n",
       "      <td>Nikola Jokić\\jokicni01</td>\n",
       "      <td>0.225346</td>\n",
       "    </tr>\n",
       "    <tr>\n",
       "      <th>344</th>\n",
       "      <td>Joel Embiid\\embiijo01</td>\n",
       "      <td>0.224206</td>\n",
       "    </tr>\n",
       "    <tr>\n",
       "      <th>27</th>\n",
       "      <td>Giannis Antetokounmpo\\antetgi01</td>\n",
       "      <td>0.217340</td>\n",
       "    </tr>\n",
       "    <tr>\n",
       "      <th>1350</th>\n",
       "      <td>Karl-Anthony Towns\\townska01</td>\n",
       "      <td>0.177079</td>\n",
       "    </tr>\n",
       "  </tbody>\n",
       "</table>\n",
       "</div>"
      ],
      "text/plain": [
       "                               Player  share_NN\n",
       "455             Rudy Gobert\\goberru01  0.232049\n",
       "715            Nikola Jokić\\jokicni01  0.225346\n",
       "344             Joel Embiid\\embiijo01  0.224206\n",
       "27    Giannis Antetokounmpo\\antetgi01  0.217340\n",
       "1350     Karl-Anthony Towns\\townska01  0.177079"
      ]
     },
     "execution_count": 24,
     "metadata": {},
     "output_type": "execute_result"
    }
   ],
   "source": [
    "NEW_2022.sort_values('share_NN', ascending=False).head(5)[['Player', 'share_NN']]"
   ]
  },
  {
   "cell_type": "markdown",
   "id": "126f2d36",
   "metadata": {},
   "source": [
    "#### Random Forest Prediction"
   ]
  },
  {
   "cell_type": "code",
   "execution_count": 25,
   "id": "2419cd8c",
   "metadata": {},
   "outputs": [
    {
     "data": {
      "text/html": [
       "<div>\n",
       "<style scoped>\n",
       "    .dataframe tbody tr th:only-of-type {\n",
       "        vertical-align: middle;\n",
       "    }\n",
       "\n",
       "    .dataframe tbody tr th {\n",
       "        vertical-align: top;\n",
       "    }\n",
       "\n",
       "    .dataframe thead th {\n",
       "        text-align: right;\n",
       "    }\n",
       "</style>\n",
       "<table border=\"1\" class=\"dataframe\">\n",
       "  <thead>\n",
       "    <tr style=\"text-align: right;\">\n",
       "      <th></th>\n",
       "      <th>Player</th>\n",
       "      <th>share_for</th>\n",
       "    </tr>\n",
       "  </thead>\n",
       "  <tbody>\n",
       "    <tr>\n",
       "      <th>455</th>\n",
       "      <td>Rudy Gobert\\goberru01</td>\n",
       "      <td>0.73924</td>\n",
       "    </tr>\n",
       "    <tr>\n",
       "      <th>344</th>\n",
       "      <td>Joel Embiid\\embiijo01</td>\n",
       "      <td>0.63750</td>\n",
       "    </tr>\n",
       "    <tr>\n",
       "      <th>715</th>\n",
       "      <td>Nikola Jokić\\jokicni01</td>\n",
       "      <td>0.60798</td>\n",
       "    </tr>\n",
       "    <tr>\n",
       "      <th>2</th>\n",
       "      <td>Bam Adebayo\\adebaba01</td>\n",
       "      <td>0.57872</td>\n",
       "    </tr>\n",
       "    <tr>\n",
       "      <th>15</th>\n",
       "      <td>Jarrett Allen\\allenja01</td>\n",
       "      <td>0.57140</td>\n",
       "    </tr>\n",
       "  </tbody>\n",
       "</table>\n",
       "</div>"
      ],
      "text/plain": [
       "                      Player  share_for\n",
       "455    Rudy Gobert\\goberru01    0.73924\n",
       "344    Joel Embiid\\embiijo01    0.63750\n",
       "715   Nikola Jokić\\jokicni01    0.60798\n",
       "2      Bam Adebayo\\adebaba01    0.57872\n",
       "15   Jarrett Allen\\allenja01    0.57140"
      ]
     },
     "execution_count": 25,
     "metadata": {},
     "output_type": "execute_result"
    }
   ],
   "source": [
    "NEW_2022.sort_values('share_for', ascending=False).head(5)[['Player', 'share_for']]"
   ]
  },
  {
   "cell_type": "code",
   "execution_count": null,
   "id": "61ec65be",
   "metadata": {},
   "outputs": [],
   "source": []
  }
 ],
 "metadata": {
  "kernelspec": {
   "display_name": "Python 3 (ipykernel)",
   "language": "python",
   "name": "python3"
  },
  "language_info": {
   "codemirror_mode": {
    "name": "ipython",
    "version": 3
   },
   "file_extension": ".py",
   "mimetype": "text/x-python",
   "name": "python",
   "nbconvert_exporter": "python",
   "pygments_lexer": "ipython3",
   "version": "3.9.13"
  }
 },
 "nbformat": 4,
 "nbformat_minor": 5
}
