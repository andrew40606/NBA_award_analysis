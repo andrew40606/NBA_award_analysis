{
 "cells": [
  {
   "cell_type": "markdown",
   "id": "e5de4c0f",
   "metadata": {},
   "source": [
    "# ROY Award Prediction"
   ]
  },
  {
   "cell_type": "markdown",
   "id": "7118fb1a",
   "metadata": {},
   "source": [
    "## Data Preprocessing"
   ]
  },
  {
   "cell_type": "markdown",
   "id": "1b3c515c",
   "metadata": {},
   "source": [
    "import general preprocessed data"
   ]
  },
  {
   "cell_type": "code",
   "execution_count": 1,
   "id": "7d909c50",
   "metadata": {},
   "outputs": [],
   "source": [
    "%run Preprocessing_main.ipynb"
   ]
  },
  {
   "cell_type": "code",
   "execution_count": 43,
   "id": "9502e4f5",
   "metadata": {},
   "outputs": [],
   "source": [
    "MSE_list = []\n",
    "model_list = ['linear_reg, SVR, tree, forest, network']"
   ]
  },
  {
   "cell_type": "code",
   "execution_count": 44,
   "id": "0882dda6",
   "metadata": {},
   "outputs": [],
   "source": [
    "ROY_data['G_x'] = ROY_data['G_x'].astype(int)"
   ]
  },
  {
   "cell_type": "markdown",
   "id": "40d89fcd",
   "metadata": {},
   "source": [
    "Dropping redundant columns"
   ]
  },
  {
   "cell_type": "code",
   "execution_count": 45,
   "id": "bd3b8f2f",
   "metadata": {},
   "outputs": [],
   "source": [
    "def drop_col(data):\n",
    "    corr = data.corr()\n",
    "    NEW_data = data\n",
    "    del_list = []\n",
    "    del_col = []\n",
    "    for i in corr:\n",
    "        for ind in corr[(corr[i]>0.9)&(corr[i]<1)].index:\n",
    "            if ind not in del_list:\n",
    "                try:\n",
    "                    NEW_data = NEW_data.drop(ind, axis = 1)\n",
    "                    del_col.append(ind)\n",
    "                except:\n",
    "                    continue\n",
    "        del_list.append(i)\n",
    "    NEW_data = NEW_data.drop('Player', axis = 1)\n",
    "    return NEW_data, del_col"
   ]
  },
  {
   "cell_type": "code",
   "execution_count": 46,
   "id": "32094b5d",
   "metadata": {
    "scrolled": true
   },
   "outputs": [],
   "source": [
    "NEW_data, del_list = drop_col(ROY_data)"
   ]
  },
  {
   "cell_type": "markdown",
   "id": "b7e01c3a",
   "metadata": {},
   "source": [
    "## Standardize for analysis"
   ]
  },
  {
   "cell_type": "code",
   "execution_count": 47,
   "id": "fdfbd733",
   "metadata": {},
   "outputs": [],
   "source": [
    "# standardize through years\n",
    "def std_scale_split(data, year_names):\n",
    "    scaler = StandardScaler()\n",
    "    X_train_result = pd.DataFrame()\n",
    "    X_test_result = pd.DataFrame()\n",
    "    y_train_result = pd.DataFrame()\n",
    "    y_test_result = pd.DataFrame()\n",
    "    for i in year_names:\n",
    "        \n",
    "        data_year = data[data['year_y']==i]\n",
    "        data_year = data_year.drop(columns='year_y')\n",
    "        \n",
    "        X = data_year.iloc[:, :-1]\n",
    "        y = data_year.iloc[:, -1]\n",
    "\n",
    "        X_train, X_test, y_train, y_test = train_test_split(X, y, test_size = 0.25, random_state = 1)\n",
    "        train_scaled = scaler.fit_transform(X_train)\n",
    "        test_scaled = scaler.transform(X_test)\n",
    "        \n",
    "        X_train_result = pd.concat([X_train_result, pd.DataFrame(train_scaled)])\n",
    "        X_test_result = pd.concat([X_test_result, pd.DataFrame(test_scaled)])\n",
    "        y_train_result = pd.concat([y_train_result, y_train])\n",
    "        y_test_result = pd.concat([y_test_result, y_test])\n",
    "        \n",
    "    return X_train_result, X_test_result, y_train_result, y_test_result\n",
    "\n",
    "X_train, X_test, y_train, y_test = std_scale_split(NEW_data, year_names)"
   ]
  },
  {
   "cell_type": "markdown",
   "id": "47c06726",
   "metadata": {},
   "source": [
    "## Model Implementation"
   ]
  },
  {
   "cell_type": "markdown",
   "id": "26cbe4a0",
   "metadata": {},
   "source": [
    "### Model 1 : Linear Regression"
   ]
  },
  {
   "cell_type": "code",
   "execution_count": 48,
   "id": "e7ea7ede",
   "metadata": {
    "scrolled": true
   },
   "outputs": [
    {
     "name": "stdout",
     "output_type": "stream",
     "text": [
      "\n",
      "Regression statistics\n",
      "\n",
      "                      Mean Error (ME) : -0.1579\n",
      "       Root Mean Squared Error (RMSE) : 0.3682\n",
      "            Mean Absolute Error (MAE) : 0.2670\n",
      "          Mean Percentage Error (MPE) : 617.7091\n",
      "Mean Absolute Percentage Error (MAPE) : 2671.5664\n"
     ]
    }
   ],
   "source": [
    "regressor = LinearRegression()\n",
    "regressor.fit(X_train, y_train)\n",
    "y_pred = regressor.predict(X_test)\n",
    "y_train_pred = regressor.predict(X_train)\n",
    "regressionSummary(y_test, y_pred)\n",
    "lin_mse = mean_squared_error(y_test, y_pred)\n",
    "comp = pd.DataFrame({0: y_test[0], 1: y_pred.reshape(len(y_pred))})\n",
    "y_pred_sorted = comp.sort_values(1, ascending=False)[0]\n",
    "y_pred_lin = y_pred_sorted\n",
    "MSE_list.append(lin_mse)"
   ]
  },
  {
   "cell_type": "code",
   "execution_count": 7,
   "id": "06d3409e",
   "metadata": {},
   "outputs": [],
   "source": [
    "cor = np.corrcoef(np.array(y_test).reshape(len(y_test)), np.array(y_pred).reshape(len(y_pred)))\n",
    "lin_cor = cor[1, 0]"
   ]
  },
  {
   "cell_type": "markdown",
   "id": "15ccc61c",
   "metadata": {},
   "source": [
    "### Model 2 : Support Vector Regression"
   ]
  },
  {
   "cell_type": "code",
   "execution_count": 49,
   "id": "8dccf23f",
   "metadata": {},
   "outputs": [
    {
     "name": "stdout",
     "output_type": "stream",
     "text": [
      "\n",
      "Regression statistics\n",
      "\n",
      "                      Mean Error (ME) : -0.0134\n",
      "       Root Mean Squared Error (RMSE) : 0.0837\n",
      "            Mean Absolute Error (MAE) : 0.0766\n",
      "          Mean Percentage Error (MPE) : -493.5140\n",
      "Mean Absolute Percentage Error (MAPE) : 887.8571\n",
      "\n",
      "Regression statistics\n",
      "\n",
      "                      Mean Error (ME) : -0.1403\n",
      "       Root Mean Squared Error (RMSE) : 0.2124\n",
      "            Mean Absolute Error (MAE) : 0.1759\n",
      "          Mean Percentage Error (MPE) : -2440.4389\n",
      "Mean Absolute Percentage Error (MAPE) : 2577.9727\n"
     ]
    }
   ],
   "source": [
    "regressor = SVR()\n",
    "regressor.fit(X = X_train, y = y_train)\n",
    "y_pred = regressor.predict(X_test)\n",
    "y_train_pred = regressor.predict(X_train)\n",
    "regressionSummary(y_train, y_train_pred)\n",
    "regressionSummary(y_test, y_pred)\n",
    "SVR_mse = mean_squared_error(y_test, y_pred)\n",
    "comp = pd.DataFrame({0: y_test[0], 1: y_pred.reshape(len(y_pred))})\n",
    "y_pred_sorted = comp.sort_values(1, ascending=False)[0]\n",
    "y_pred_SVR = y_pred_sorted\n",
    "MSE_list.append(SVR_mse)"
   ]
  },
  {
   "cell_type": "code",
   "execution_count": 50,
   "id": "7ca9d376",
   "metadata": {},
   "outputs": [],
   "source": [
    "cor = np.corrcoef(np.array(y_test).reshape(len(y_test)), np.array(y_pred).reshape(len(y_pred)))\n",
    "SVR_cor = cor[1, 0]"
   ]
  },
  {
   "cell_type": "markdown",
   "id": "1631f430",
   "metadata": {},
   "source": [
    "### Model 3 : Decision Tree Regression"
   ]
  },
  {
   "cell_type": "code",
   "execution_count": 51,
   "id": "b06f7e1c",
   "metadata": {},
   "outputs": [
    {
     "name": "stdout",
     "output_type": "stream",
     "text": [
      "alpha: 0.0250, CORR: 0.5420\n"
     ]
    }
   ],
   "source": [
    "fin_alpha = 0\n",
    "tree_mse = 1E20\n",
    "fin_cor = -1\n",
    "for alpha in np.linspace(0, 0.5, 21):\n",
    "    regressor = DecisionTreeRegressor(ccp_alpha = alpha, random_state = 1)\n",
    "    regressor.fit(X = X_train, y = np.array(y_train).reshape(len(y_train), ))\n",
    "    y_pred = regressor.predict(X_test)\n",
    "    y_train_pred = regressor.predict(X_train)\n",
    "    MSE = mean_squared_error(y_test, y_pred)\n",
    "    cor = np.corrcoef(np.array(y_test).reshape(len(y_test)), np.array(y_pred).reshape(len(y_pred)))\n",
    "    if cor[1, 0] > fin_cor:\n",
    "        fin_alpha = alpha\n",
    "        fin_cor = cor[1, 0]\n",
    "        y_pred_tree = y_pred\n",
    "        tree_mse = MSE\n",
    "print('alpha: {:1.4f}, CORR: {:1.4f}'.format(fin_alpha, fin_cor))\n",
    "tree_cor = fin_cor\n",
    "comp = pd.DataFrame({0: y_test[0], 1: y_pred_tree.reshape(len(y_pred_tree))})\n",
    "y_pred_sorted = comp.sort_values(1, ascending=False)[0]\n",
    "y_pred_tree = y_pred_sorted\n",
    "MSE_list.append(tree_mse)"
   ]
  },
  {
   "cell_type": "code",
   "execution_count": 12,
   "id": "fcfa70db",
   "metadata": {
    "scrolled": true
   },
   "outputs": [
    {
     "name": "stdout",
     "output_type": "stream",
     "text": [
      "\n",
      "Regression statistics\n",
      "\n",
      "                      Mean Error (ME) : -0.0845\n",
      "       Root Mean Squared Error (RMSE) : 0.2592\n",
      "            Mean Absolute Error (MAE) : 0.1657\n",
      "          Mean Percentage Error (MPE) : -970.0307\n",
      "Mean Absolute Percentage Error (MAPE) : 1005.6109\n"
     ]
    }
   ],
   "source": [
    "regressor = DecisionTreeRegressor(ccp_alpha = 0.025, random_state = 1)\n",
    "regressor.fit(X = X_train, y = np.array(y_train).reshape(len(y_train), ))\n",
    "y_pred = regressor.predict(X_test)\n",
    "regressionSummary(y_test, y_pred)"
   ]
  },
  {
   "cell_type": "markdown",
   "id": "9be63fa7",
   "metadata": {},
   "source": [
    "### Model 4 : Random Forest Regression"
   ]
  },
  {
   "cell_type": "code",
   "execution_count": 13,
   "id": "0a224234",
   "metadata": {},
   "outputs": [
    {
     "name": "stdout",
     "output_type": "stream",
     "text": [
      "alpha: 0.0000, CORR: 0.6237\n"
     ]
    }
   ],
   "source": [
    "min_mse = 1E20\n",
    "fin_alpha = 0\n",
    "fin_NE = 0\n",
    "fin_cor = -1\n",
    "\n",
    "for alpha in np.linspace(0, 0.5, 11):\n",
    "    for n_e  in np.linspace(10, 100, 10):\n",
    "        regressor = RandomForestRegressor(n_estimators = int(n_e), ccp_alpha = alpha, random_state = 1)\n",
    "        regressor.fit(X = X_train, y = np.array(y_train).reshape(len(y_train), ))\n",
    "        y_pred = regressor.predict(X_test)\n",
    "        y_train_pred = regressor.predict(X_train)\n",
    "        MSE = mean_squared_error(y_test, y_pred)\n",
    "        cor = np.corrcoef(np.array(y_test).reshape(len(y_test)), np.array(y_pred).reshape(len(y_pred)))\n",
    "        if cor[1, 0] > fin_cor:\n",
    "            fin_alpha = alpha\n",
    "            fin_cor = cor[1, 0]\n",
    "            y_pred_for = y_pred\n",
    "            fin_NE = n_e\n",
    "print('alpha: {:1.4f}, CORR: {:1.4f}'.format(fin_alpha, fin_cor))\n",
    "for_cor = fin_cor\n",
    "comp = pd.DataFrame({0: y_test[0], 1: y_pred_for.reshape(len(y_pred_for))})\n",
    "y_pred_sorted = comp.sort_values(1, ascending=False)[0]\n",
    "y_pred_for = y_pred_sorted"
   ]
  },
  {
   "cell_type": "code",
   "execution_count": 14,
   "id": "1c526506",
   "metadata": {},
   "outputs": [
    {
     "data": {
      "text/plain": [
       "10.0"
      ]
     },
     "execution_count": 14,
     "metadata": {},
     "output_type": "execute_result"
    }
   ],
   "source": [
    "fin_NE"
   ]
  },
  {
   "cell_type": "code",
   "execution_count": 15,
   "id": "164bc5ef",
   "metadata": {},
   "outputs": [
    {
     "name": "stdout",
     "output_type": "stream",
     "text": [
      "\n",
      "Regression statistics\n",
      "\n",
      "                      Mean Error (ME) : -0.1238\n",
      "       Root Mean Squared Error (RMSE) : 0.2408\n",
      "            Mean Absolute Error (MAE) : 0.1539\n",
      "          Mean Percentage Error (MPE) : -1641.0221\n",
      "Mean Absolute Percentage Error (MAPE) : 1655.8045\n"
     ]
    }
   ],
   "source": [
    "regressor = RandomForestRegressor(n_estimators = 10, ccp_alpha = 0, random_state = 1)\n",
    "regressor.fit(X = X_train, y = np.array(y_train).reshape(len(y_train), ))\n",
    "y_pred = regressor.predict(X_test)\n",
    "regressionSummary(y_test, y_pred)"
   ]
  },
  {
   "cell_type": "markdown",
   "id": "99e00c2d",
   "metadata": {},
   "source": [
    "### Model 5 : Neural Network"
   ]
  },
  {
   "cell_type": "markdown",
   "id": "b42b0754",
   "metadata": {},
   "source": [
    "Scaling data into [0, 1] for neural network"
   ]
  },
  {
   "cell_type": "code",
   "execution_count": 31,
   "id": "cf6063ae",
   "metadata": {},
   "outputs": [],
   "source": [
    "# standardize through years\n",
    "def nor_scale_split(data, year_names):\n",
    "    scaler = MinMaxScaler()\n",
    "\n",
    "    X_train_result = pd.DataFrame()\n",
    "    X_test_result = pd.DataFrame()\n",
    "    y_train_result = pd.DataFrame()\n",
    "    y_test_result = pd.DataFrame()\n",
    "    for i in year_names:\n",
    "        \n",
    "        data_year = data[data['year_y']==i]\n",
    "        data_year = data_year.drop(columns='year_y')\n",
    "        \n",
    "        X = data_year.iloc[:, :-1]\n",
    "        y = data_year.iloc[:, -1]\n",
    "        \n",
    "        X_train, X_test, y_train, y_test = train_test_split(X, y, test_size = 0.25, random_state = 1)\n",
    "        train_scaled = scaler.fit_transform(X_train)\n",
    "        test_scaled = scaler.transform(X_test)\n",
    "        \n",
    "        X_train_result = pd.concat([X_train_result, pd.DataFrame(train_scaled)])\n",
    "        X_test_result = pd.concat([X_test_result, pd.DataFrame(test_scaled)])\n",
    "        y_train_result = pd.concat([y_train_result, y_train])\n",
    "        y_test_result = pd.concat([y_test_result, y_test])\n",
    "        \n",
    "    return X_train_result, X_test_result, y_train_result, y_test_result\n",
    "\n",
    "X_train, X_test, y_train, y_test = nor_scale_split(NEW_data, year_names)"
   ]
  },
  {
   "cell_type": "code",
   "execution_count": 32,
   "id": "47855bef",
   "metadata": {
    "scrolled": true
   },
   "outputs": [
    {
     "name": "stdout",
     "output_type": "stream",
     "text": [
      "layer size: 9.0000, batch size: 5.0000, CORR: 0.7079\n"
     ]
    }
   ],
   "source": [
    "best_cor = 0\n",
    "best_bat = [0, 0]\n",
    "best_size = [0, 0]\n",
    "for size1 in [int(i) for i in np.linspace(5, 20, 16)]:\n",
    "    for bat in [int(i) for i in np.linspace(5, 100, 20)]:\n",
    "        NNRegressor = MLPRegressor(hidden_layer_sizes = (size1), batch_size = bat, \n",
    "                                   activation = 'logistic', random_state= 1)\n",
    "        NNRegressor.fit(X_train, y_train)\n",
    "        y_pred = NNRegressor.predict(X_test)\n",
    "        NN_cor = np.corrcoef(np.array(y_test).reshape(len(y_test)), np.array(y_pred).reshape(len(y_pred)))\n",
    "        NN_cor = NN_cor[1, 0]\n",
    "        if NN_cor > best_cor:\n",
    "            best_cor = NN_cor\n",
    "            best_size[0] = size1\n",
    "            best_bat[0] = bat\n",
    "            y_pred_NN = y_pred\n",
    "print('layer size: {:1.4f}, batch size: {:1.4f}, CORR: {:1.4f}'.format(best_size[0], best_bat[0], best_cor))\n",
    "NN_cor = best_cor\n",
    "comp = pd.DataFrame({0: y_test[0], 1: y_pred_NN.reshape(len(y_pred_NN))})\n",
    "y_pred_sorted = comp.sort_values(1, ascending=False)[0]\n",
    "y_pred_NN = y_pred_sorted"
   ]
  },
  {
   "cell_type": "code",
   "execution_count": 33,
   "id": "58ac1b8f",
   "metadata": {},
   "outputs": [
    {
     "name": "stdout",
     "output_type": "stream",
     "text": [
      "\n",
      "Regression statistics\n",
      "\n",
      "                      Mean Error (ME) : -0.0000\n",
      "       Root Mean Squared Error (RMSE) : 0.2497\n",
      "            Mean Absolute Error (MAE) : 0.1701\n",
      "          Mean Percentage Error (MPE) : -1089.4737\n",
      "Mean Absolute Percentage Error (MAPE) : 1154.5943\n"
     ]
    }
   ],
   "source": [
    "regressionSummary(y_test, y_pred_NN)"
   ]
  },
  {
   "cell_type": "markdown",
   "id": "38e2df1a",
   "metadata": {},
   "source": [
    "### Model Comparison Using Correlation Coefficient and Lift Chart"
   ]
  },
  {
   "cell_type": "code",
   "execution_count": 18,
   "id": "1e475a20",
   "metadata": {},
   "outputs": [
    {
     "name": "stdout",
     "output_type": "stream",
     "text": [
      "Linear regression: 0.6848\n",
      "SVR: 0.5406\n",
      "Decision tree: 0.5420\n",
      "Random forest: 0.6237\n",
      "Neural Network: 0.7079\n"
     ]
    }
   ],
   "source": [
    "print('Linear regression: {:1.4f}'.format(lin_cor))\n",
    "print('SVR: {:1.4f}'.format(SVR_cor))\n",
    "print('Decision tree: {:1.4f}'.format(tree_cor))\n",
    "print('Random forest: {:1.4f}'.format(for_cor))\n",
    "print('Neural Network: {:1.4f}'.format(NN_cor))"
   ]
  },
  {
   "cell_type": "code",
   "execution_count": 19,
   "id": "22cf8c22",
   "metadata": {
    "scrolled": false
   },
   "outputs": [
    {
     "data": {
      "image/png": "[encoded data removed]",
      "text/plain": [
       "<Figure size 576x432 with 1 Axes>"
      ]
     },
     "metadata": {
      "needs_background": "light"
     },
     "output_type": "display_data"
    }
   ],
   "source": [
    "ax = gainsChart(pd.Series(y_pred_lin), label = 'Linear Regression',figsize = [8, 6], color = 'C0')\n",
    "ax = gainsChart(pd.Series(y_pred_SVR), label = 'SVR', ax = ax, color = 'C1')\n",
    "ax = gainsChart(pd.Series(y_pred_tree), label = 'Decision Tree', ax = ax, color = 'C2')\n",
    "ax = gainsChart(pd.Series(y_pred_for), label = 'Forest', ax = ax, color = 'C3')\n",
    "ax = gainsChart(pd.Series(y_pred_NN), label = 'Neural Network', ax = ax, color = 'C4')\n",
    "plt.title('ROY Award Prediction Lift Chart')\n",
    "plt.legend()\n",
    "\n",
    "plt.show()"
   ]
  },
  {
   "cell_type": "markdown",
   "id": "11329bb9",
   "metadata": {},
   "source": [
    "# Evaluation"
   ]
  },
  {
   "cell_type": "markdown",
   "id": "aab603d3",
   "metadata": {},
   "source": [
    "## Linear Regression"
   ]
  },
  {
   "cell_type": "markdown",
   "id": "bd68911f",
   "metadata": {},
   "source": [
    "### Summary"
   ]
  },
  {
   "cell_type": "code",
   "execution_count": 20,
   "id": "8f3ba4ea",
   "metadata": {
    "scrolled": true
   },
   "outputs": [
    {
     "name": "stdout",
     "output_type": "stream",
     "text": [
      "Model: linear regression\n",
      "\n",
      "\n",
      "Regression statistics\n",
      "\n",
      "                      Mean Error (ME) : -0.1579\n",
      "       Root Mean Squared Error (RMSE) : 0.3682\n",
      "            Mean Absolute Error (MAE) : 0.2670\n",
      "          Mean Percentage Error (MPE) : 617.7091\n",
      "Mean Absolute Percentage Error (MAPE) : 2671.5664\n",
      "\n",
      "CORR: 0.6848\n",
      "RMSE: 0.3682\n"
     ]
    }
   ],
   "source": [
    "# preprocessing\n",
    "X_train, X_test, y_train, y_test = std_scale_split(NEW_data, year_names)\n",
    "\n",
    "# build model\n",
    "regressor = LinearRegression()\n",
    "regressor.fit(X_train, y_train)\n",
    "\n",
    "# model summary\n",
    "y_pred = regressor.predict(X_test)\n",
    "y_train_pred = regressor.predict(X_train)\n",
    "\n",
    "print('Model: linear regression\\n')\n",
    "regressionSummary(y_test, y_pred)\n",
    "\n",
    "# evaluations\n",
    "cor = np.corrcoef(np.array(y_test).reshape(len(y_test)), np.array(y_pred).reshape(len(y_pred)))\n",
    "lin_cor = cor[1, 0]\n",
    "\n",
    "lin_R2 = r2_score(np.array(y_test).reshape(len(y_test)), np.array(y_pred).reshape(len(y_pred)))\n",
    "\n",
    "lin_RMSE = mean_squared_error(np.array(y_test).reshape(len(y_test)), np.array(y_pred).reshape(len(y_pred)))**0.5\n",
    "print('\\nCORR: {:1.4f}'.format(lin_cor))\n",
    "print('RMSE: {:1.4f}'.format(lin_RMSE))"
   ]
  },
  {
   "cell_type": "markdown",
   "id": "6e3a2cac",
   "metadata": {},
   "source": [
    "### Visualization"
   ]
  },
  {
   "cell_type": "code",
   "execution_count": 21,
   "id": "d4e2fab7",
   "metadata": {},
   "outputs": [
    {
     "data": {
      "image/png": "[encoded data removed]",
      "text/plain": [
       "<Figure size 432x288 with 1 Axes>"
      ]
     },
     "metadata": {
      "needs_background": "light"
     },
     "output_type": "display_data"
    }
   ],
   "source": [
    "ax = gainsChart(pd.Series(y_pred_lin), label = 'Linear regression')\n",
    "plt.title('Linear Regression Gains Chart')\n",
    "plt.show()"
   ]
  },
  {
   "cell_type": "markdown",
   "id": "b0a62ad6",
   "metadata": {},
   "source": [
    "## Neural network"
   ]
  },
  {
   "cell_type": "code",
   "execution_count": 22,
   "id": "0c6a793a",
   "metadata": {},
   "outputs": [
    {
     "name": "stdout",
     "output_type": "stream",
     "text": [
      "Model: Neural network\n",
      "\n",
      "\n",
      "Regression statistics\n",
      "\n",
      "                      Mean Error (ME) : -0.0809\n",
      "       Root Mean Squared Error (RMSE) : 0.2553\n",
      "            Mean Absolute Error (MAE) : 0.2039\n",
      "          Mean Percentage Error (MPE) : 500.3101\n",
      "Mean Absolute Percentage Error (MAPE) : 2384.5382\n",
      "\n",
      "CORR: 0.7079\n",
      "RMSE: 0.2553\n"
     ]
    }
   ],
   "source": [
    "# preprocessing\n",
    "X_train, X_test, y_train, y_test = nor_scale_split(NEW_data, year_names)\n",
    "\n",
    "# build model\n",
    "NN = MLPRegressor(hidden_layer_sizes = (9), batch_size = 5, \n",
    "                                   activation = 'logistic', random_state= 1)\n",
    "NN.fit(X_train, y_train)\n",
    "\n",
    "# model summary\n",
    "y_pred = NN.predict(X_test)\n",
    "y_train_pred = NN.predict(X_train)\n",
    "\n",
    "print('Model: Neural network\\n')\n",
    "regressionSummary(y_test, y_pred)\n",
    "\n",
    "# evaluations\n",
    "cor = np.corrcoef(np.array(y_test).reshape(len(y_test)), np.array(y_pred).reshape(len(y_pred)))\n",
    "NN_cor = cor[1, 0]\n",
    "\n",
    "NN_R2 = r2_score(np.array(y_test).reshape(len(y_test)), np.array(y_pred).reshape(len(y_pred)))\n",
    "\n",
    "NN_RMSE = mean_squared_error(np.array(y_test).reshape(len(y_test)), np.array(y_pred).reshape(len(y_pred)))**0.5\n",
    "print('\\nCORR: {:1.4f}'.format(NN_cor))\n",
    "print('RMSE: {:1.4f}'.format(NN_RMSE))"
   ]
  },
  {
   "cell_type": "markdown",
   "id": "9304f31f",
   "metadata": {},
   "source": [
    "### Visualization"
   ]
  },
  {
   "cell_type": "code",
   "execution_count": 23,
   "id": "8fbc0d5a",
   "metadata": {},
   "outputs": [
    {
     "data": {
      "image/png": "[encoded data removed]",
      "text/plain": [
       "<Figure size 432x288 with 1 Axes>"
      ]
     },
     "metadata": {
      "needs_background": "light"
     },
     "output_type": "display_data"
    }
   ],
   "source": [
    "ax = gainsChart(pd.Series(y_pred_NN), label = 'Neural Network')\n",
    "plt.title('Neural Network Gains Chart (layer size: 9, batch size: 5)')\n",
    "plt.show()"
   ]
  },
  {
   "cell_type": "markdown",
   "id": "ddccd222",
   "metadata": {},
   "source": [
    "# Prediction"
   ]
  },
  {
   "cell_type": "code",
   "execution_count": 24,
   "id": "d9ad6137",
   "metadata": {},
   "outputs": [],
   "source": [
    "data_2022 = rook_ref.loc[rook_ref['Player'].isin(rook_2022['Player'].array)]\n",
    "\n",
    "data_2022['G_x'] = data_2022['G_x'].astype(int)\n",
    "NEW_2022 = data_2022.drop(del_list, axis = 1)\n",
    "NEW_2022 = NEW_2022.drop('Rk', axis = 1)\n",
    "player_list = NEW_2022['Player']\n",
    "NEW_2022 = NEW_2022.drop('Player', axis = 1)"
   ]
  },
  {
   "cell_type": "code",
   "execution_count": 25,
   "id": "6c61944a",
   "metadata": {},
   "outputs": [],
   "source": [
    "scaler = StandardScaler()\n",
    "scaled_2022 = scaler.fit_transform(NEW_2022)\n",
    "pred_22_lin = regressor.predict(scaled_2022)"
   ]
  },
  {
   "cell_type": "code",
   "execution_count": 26,
   "id": "c5a8ec7f",
   "metadata": {},
   "outputs": [],
   "source": [
    "scaler = MinMaxScaler()\n",
    "scaled_2022 = scaler.fit_transform(NEW_2022)\n",
    "pred_22_NN = NN.predict(scaled_2022)"
   ]
  },
  {
   "cell_type": "code",
   "execution_count": 27,
   "id": "c89abc21",
   "metadata": {},
   "outputs": [],
   "source": [
    "NEW_2022['Player'] = player_list\n",
    "NEW_2022['share_NN'] = pred_22_NN\n",
    "NEW_2022['share_lin'] = pred_22_lin"
   ]
  },
  {
   "cell_type": "markdown",
   "id": "70585d31",
   "metadata": {},
   "source": [
    "#### Neural Network prediction"
   ]
  },
  {
   "cell_type": "code",
   "execution_count": 28,
   "id": "113f3c76",
   "metadata": {
    "scrolled": true
   },
   "outputs": [
    {
     "data": {
      "text/html": [
       "<div>\n",
       "<style scoped>\n",
       "    .dataframe tbody tr th:only-of-type {\n",
       "        vertical-align: middle;\n",
       "    }\n",
       "\n",
       "    .dataframe tbody tr th {\n",
       "        vertical-align: top;\n",
       "    }\n",
       "\n",
       "    .dataframe thead th {\n",
       "        text-align: right;\n",
       "    }\n",
       "</style>\n",
       "<table border=\"1\" class=\"dataframe\">\n",
       "  <thead>\n",
       "    <tr style=\"text-align: right;\">\n",
       "      <th></th>\n",
       "      <th>Player</th>\n",
       "      <th>share_NN</th>\n",
       "    </tr>\n",
       "  </thead>\n",
       "  <tbody>\n",
       "    <tr>\n",
       "      <th>63</th>\n",
       "      <td>Scottie Barnes\\barnesc01</td>\n",
       "      <td>0.786559</td>\n",
       "    </tr>\n",
       "    <tr>\n",
       "      <th>936</th>\n",
       "      <td>Evan Mobley\\mobleev01</td>\n",
       "      <td>0.759317</td>\n",
       "    </tr>\n",
       "    <tr>\n",
       "      <th>1379</th>\n",
       "      <td>Franz Wagner\\wagnefr01</td>\n",
       "      <td>0.574277</td>\n",
       "    </tr>\n",
       "    <tr>\n",
       "      <th>727</th>\n",
       "      <td>Herbert Jones\\joneshe01</td>\n",
       "      <td>0.499805</td>\n",
       "    </tr>\n",
       "    <tr>\n",
       "      <th>251</th>\n",
       "      <td>Cade Cunningham\\cunnica01</td>\n",
       "      <td>0.463623</td>\n",
       "    </tr>\n",
       "  </tbody>\n",
       "</table>\n",
       "</div>"
      ],
      "text/plain": [
       "                         Player  share_NN\n",
       "63     Scottie Barnes\\barnesc01  0.786559\n",
       "936       Evan Mobley\\mobleev01  0.759317\n",
       "1379     Franz Wagner\\wagnefr01  0.574277\n",
       "727     Herbert Jones\\joneshe01  0.499805\n",
       "251   Cade Cunningham\\cunnica01  0.463623"
      ]
     },
     "execution_count": 28,
     "metadata": {},
     "output_type": "execute_result"
    }
   ],
   "source": [
    "NEW_2022.sort_values('share_NN', ascending=False).head(5)[['Player', 'share_NN']]"
   ]
  },
  {
   "cell_type": "markdown",
   "id": "08423fb8",
   "metadata": {},
   "source": [
    "#### Linear Regression Prediction"
   ]
  },
  {
   "cell_type": "code",
   "execution_count": 29,
   "id": "2419cd8c",
   "metadata": {},
   "outputs": [
    {
     "data": {
      "text/html": [
       "<div>\n",
       "<style scoped>\n",
       "    .dataframe tbody tr th:only-of-type {\n",
       "        vertical-align: middle;\n",
       "    }\n",
       "\n",
       "    .dataframe tbody tr th {\n",
       "        vertical-align: top;\n",
       "    }\n",
       "\n",
       "    .dataframe thead th {\n",
       "        text-align: right;\n",
       "    }\n",
       "</style>\n",
       "<table border=\"1\" class=\"dataframe\">\n",
       "  <thead>\n",
       "    <tr style=\"text-align: right;\">\n",
       "      <th></th>\n",
       "      <th>Player</th>\n",
       "      <th>share_lin</th>\n",
       "    </tr>\n",
       "  </thead>\n",
       "  <tbody>\n",
       "    <tr>\n",
       "      <th>63</th>\n",
       "      <td>Scottie Barnes\\barnesc01</td>\n",
       "      <td>2.664779</td>\n",
       "    </tr>\n",
       "    <tr>\n",
       "      <th>936</th>\n",
       "      <td>Evan Mobley\\mobleev01</td>\n",
       "      <td>2.084736</td>\n",
       "    </tr>\n",
       "    <tr>\n",
       "      <th>1379</th>\n",
       "      <td>Franz Wagner\\wagnefr01</td>\n",
       "      <td>1.802425</td>\n",
       "    </tr>\n",
       "    <tr>\n",
       "      <th>727</th>\n",
       "      <td>Herbert Jones\\joneshe01</td>\n",
       "      <td>1.486778</td>\n",
       "    </tr>\n",
       "    <tr>\n",
       "      <th>631</th>\n",
       "      <td>Bones Hyland\\hylanbo01</td>\n",
       "      <td>1.070102</td>\n",
       "    </tr>\n",
       "  </tbody>\n",
       "</table>\n",
       "</div>"
      ],
      "text/plain": [
       "                        Player  share_lin\n",
       "63    Scottie Barnes\\barnesc01   2.664779\n",
       "936      Evan Mobley\\mobleev01   2.084736\n",
       "1379    Franz Wagner\\wagnefr01   1.802425\n",
       "727    Herbert Jones\\joneshe01   1.486778\n",
       "631     Bones Hyland\\hylanbo01   1.070102"
      ]
     },
     "execution_count": 29,
     "metadata": {},
     "output_type": "execute_result"
    }
   ],
   "source": [
    "NEW_2022.sort_values('share_lin', ascending=False).head(5)[['Player', 'share_lin']]"
   ]
  },
  {
   "cell_type": "code",
   "execution_count": null,
   "id": "c15700a5",
   "metadata": {},
   "outputs": [],
   "source": []
  }
 ],
 "metadata": {
  "kernelspec": {
   "display_name": "Python 3 (ipykernel)",
   "language": "python",
   "name": "python3"
  },
  "language_info": {
   "codemirror_mode": {
    "name": "ipython",
    "version": 3
   },
   "file_extension": ".py",
   "mimetype": "text/x-python",
   "name": "python",
   "nbconvert_exporter": "python",
   "pygments_lexer": "ipython3",
   "version": "3.9.13"
  }
 },
 "nbformat": 4,
 "nbformat_minor": 5
}
