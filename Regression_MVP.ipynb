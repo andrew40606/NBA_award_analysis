{
 "cells": [
  {
   "cell_type": "markdown",
   "id": "90a2a7d7",
   "metadata": {},
   "source": [
    "# MVP Award Prediction"
   ]
  },
  {
   "cell_type": "markdown",
   "id": "f2d8b902",
   "metadata": {},
   "source": [
    "## Data Preprocessing"
   ]
  },
  {
   "cell_type": "markdown",
   "id": "0a3356f4",
   "metadata": {},
   "source": [
    "Import general preprocessed data"
   ]
  },
  {
   "cell_type": "code",
   "execution_count": 1,
   "id": "7d909c50",
   "metadata": {},
   "outputs": [],
   "source": [
    "%run Preprocessing_main.ipynb"
   ]
  },
  {
   "cell_type": "code",
   "execution_count": 2,
   "id": "0882dda6",
   "metadata": {},
   "outputs": [],
   "source": [
    "MVP_data['G_x'] = MVP_data['G_x'].astype(int)"
   ]
  },
  {
   "cell_type": "markdown",
   "id": "f4afe326",
   "metadata": {},
   "source": [
    "Dropping redundant columns (columns having correlation over 90%)"
   ]
  },
  {
   "cell_type": "code",
   "execution_count": 3,
   "id": "bd3b8f2f",
   "metadata": {},
   "outputs": [],
   "source": [
    "def drop_col(data):\n",
    "    corr = data.corr()\n",
    "    NEW_data = data\n",
    "    del_list = []\n",
    "    del_col = []\n",
    "    for i in corr:\n",
    "        for ind in corr[(corr[i]>0.9)&(corr[i]<1)].index:\n",
    "            if ind not in del_list:\n",
    "                try:\n",
    "                    NEW_data = NEW_data.drop(ind, axis = 1)\n",
    "                    del_col.append(ind)\n",
    "                except:\n",
    "                    continue\n",
    "        del_list.append(i)\n",
    "    NEW_data = NEW_data.drop('Player', axis = 1)\n",
    "    return NEW_data, del_col"
   ]
  },
  {
   "cell_type": "code",
   "execution_count": 4,
   "id": "32094b5d",
   "metadata": {
    "scrolled": true
   },
   "outputs": [],
   "source": [
    "NEW_data, del_col = drop_col(MVP_data)"
   ]
  },
  {
   "cell_type": "markdown",
   "id": "95aa7215",
   "metadata": {},
   "source": [
    "### Standardize for analysis"
   ]
  },
  {
   "cell_type": "markdown",
   "id": "a053465d",
   "metadata": {},
   "source": [
    "Due to the selection of NBA awards were base on the comparison of players' performances each year. We split the data by year, standardized it, and finally combined them together. This provides a more reasonable indication of players' performance."
   ]
  },
  {
   "cell_type": "code",
   "execution_count": 5,
   "id": "fdfbd733",
   "metadata": {},
   "outputs": [],
   "source": [
    "# standardize through years\n",
    "def std_scale_split(data, year_names):\n",
    "    scaler = StandardScaler()\n",
    "    X_train_result = pd.DataFrame()\n",
    "    X_test_result = pd.DataFrame()\n",
    "    y_train_result = pd.DataFrame()\n",
    "    y_test_result = pd.DataFrame()\n",
    "    for i in year_names:\n",
    "        \n",
    "        data_year = data[data['year_y']==i]\n",
    "        data_year = data_year.drop(columns='year_y')\n",
    "        \n",
    "        X = data_year.iloc[:, :-1]\n",
    "        y = data_year.iloc[:, -1]\n",
    "\n",
    "        X_train, X_test, y_train, y_test = train_test_split(X, y, test_size = 0.25, random_state = 1)\n",
    "        train_scaled = scaler.fit_transform(X_train)\n",
    "        test_scaled = scaler.transform(X_test)\n",
    "        \n",
    "        X_train_result = pd.concat([X_train_result, pd.DataFrame(train_scaled)])\n",
    "        X_test_result = pd.concat([X_test_result, pd.DataFrame(test_scaled)])\n",
    "        y_train_result = pd.concat([y_train_result, y_train])\n",
    "        y_test_result = pd.concat([y_test_result, y_test])\n",
    "        \n",
    "    return X_train_result, X_test_result, y_train_result, y_test_result\n",
    "\n",
    "X_train, X_test, y_train, y_test = std_scale_split(NEW_data, year_names)"
   ]
  },
  {
   "cell_type": "markdown",
   "id": "45e88390",
   "metadata": {},
   "source": [
    "## Model Implementation"
   ]
  },
  {
   "cell_type": "markdown",
   "id": "d5af559c",
   "metadata": {},
   "source": [
    "### Model 1 : Linear Regression"
   ]
  },
  {
   "cell_type": "code",
   "execution_count": 6,
   "id": "e7ea7ede",
   "metadata": {
    "scrolled": true
   },
   "outputs": [
    {
     "name": "stdout",
     "output_type": "stream",
     "text": [
      "\n",
      "Regression statistics\n",
      "\n",
      "                      Mean Error (ME) : 0.0000\n",
      "       Root Mean Squared Error (RMSE) : 0.1983\n",
      "            Mean Absolute Error (MAE) : 0.1541\n",
      "          Mean Percentage Error (MPE) : -480.8082\n",
      "Mean Absolute Percentage Error (MAPE) : 3054.9236\n",
      "\n",
      "Regression statistics\n",
      "\n",
      "                      Mean Error (ME) : -0.0171\n",
      "       Root Mean Squared Error (RMSE) : 0.1603\n",
      "            Mean Absolute Error (MAE) : 0.1254\n",
      "          Mean Percentage Error (MPE) : -192.2601\n",
      "Mean Absolute Percentage Error (MAPE) : 922.2176\n"
     ]
    }
   ],
   "source": [
    "regressor = LinearRegression()\n",
    "regressor.fit(X_train, y_train)\n",
    "y_pred = regressor.predict(X_test)\n",
    "y_train_pred = regressor.predict(X_train)\n",
    "regressionSummary(y_train, y_train_pred)\n",
    "regressionSummary(y_test, y_pred)\n",
    "lin_mse = mean_squared_error(y_test, y_pred)\n",
    "comp = pd.DataFrame({0: y_test[0], 1: y_pred.reshape(len(y_pred))})\n",
    "y_pred_sorted = comp.sort_values(1, ascending=False)[0]\n",
    "y_pred_lin = y_pred_sorted"
   ]
  },
  {
   "cell_type": "code",
   "execution_count": 7,
   "id": "06d3409e",
   "metadata": {},
   "outputs": [],
   "source": [
    "cor = np.corrcoef(np.array(y_test).reshape(len(y_test)), np.array(y_pred).reshape(len(y_pred)))\n",
    "lin_cor = cor[1, 0]"
   ]
  },
  {
   "cell_type": "markdown",
   "id": "08c41f44",
   "metadata": {},
   "source": [
    "### Model 2 : Support Vector Regression"
   ]
  },
  {
   "cell_type": "code",
   "execution_count": 8,
   "id": "8dccf23f",
   "metadata": {},
   "outputs": [
    {
     "name": "stdout",
     "output_type": "stream",
     "text": [
      "\n",
      "Regression statistics\n",
      "\n",
      "                      Mean Error (ME) : -0.0128\n",
      "       Root Mean Squared Error (RMSE) : 0.1078\n",
      "            Mean Absolute Error (MAE) : 0.0824\n",
      "          Mean Percentage Error (MPE) : -1233.9688\n",
      "Mean Absolute Percentage Error (MAPE) : 1890.8296\n",
      "\n",
      "Regression statistics\n",
      "\n",
      "                      Mean Error (ME) : -0.0461\n",
      "       Root Mean Squared Error (RMSE) : 0.2011\n",
      "            Mean Absolute Error (MAE) : 0.1626\n",
      "          Mean Percentage Error (MPE) : -1089.9168\n",
      "Mean Absolute Percentage Error (MAPE) : 1289.5220\n"
     ]
    }
   ],
   "source": [
    "regressor = SVR()\n",
    "regressor.fit(X = X_train, y = y_train)\n",
    "y_pred = regressor.predict(X_test)\n",
    "y_train_pred = regressor.predict(X_train)\n",
    "regressionSummary(y_train, y_train_pred)\n",
    "regressionSummary(y_test, y_pred)\n",
    "SVR_mse = mean_squared_error(y_test, y_pred)\n",
    "comp = pd.DataFrame({0: y_test[0], 1: y_pred.reshape(len(y_pred))})\n",
    "y_pred_sorted = comp.sort_values(1, ascending=False)[0]\n",
    "y_pred_SVR = y_pred_sorted"
   ]
  },
  {
   "cell_type": "code",
   "execution_count": 9,
   "id": "7ca9d376",
   "metadata": {},
   "outputs": [],
   "source": [
    "cor = np.corrcoef(np.array(y_test).reshape(len(y_test)), np.array(y_pred).reshape(len(y_pred)))\n",
    "SVR_cor = cor[1, 0]"
   ]
  },
  {
   "cell_type": "markdown",
   "id": "4c56cd9c",
   "metadata": {},
   "source": [
    "### Model 3 : Decision Tree Regression"
   ]
  },
  {
   "cell_type": "code",
   "execution_count": 10,
   "id": "b06f7e1c",
   "metadata": {
    "scrolled": true
   },
   "outputs": [
    {
     "name": "stdout",
     "output_type": "stream",
     "text": [
      "alpha: 0.0250, CORR: 0.3836\n"
     ]
    }
   ],
   "source": [
    "fin_alpha = 0\n",
    "min_mse = 1E20\n",
    "fin_cor = -1\n",
    "for alpha in np.linspace(0, 0.5, 21):\n",
    "    regressor = DecisionTreeRegressor(ccp_alpha = alpha, random_state = 1)\n",
    "    regressor.fit(X = X_train, y = np.array(y_train).reshape(len(y_train), ))\n",
    "    y_pred = regressor.predict(X_test)\n",
    "    y_train_pred = regressor.predict(X_train)\n",
    "    MSE = mean_squared_error(y_test, y_pred)\n",
    "    cor = np.corrcoef(np.array(y_test).reshape(len(y_test)), np.array(y_pred).reshape(len(y_pred)))\n",
    "    if cor[1, 0] > fin_cor:\n",
    "        fin_alpha = alpha\n",
    "        fin_cor = cor[1, 0]\n",
    "        y_pred_tree = y_pred\n",
    "print('alpha: {:1.4f}, CORR: {:1.4f}'.format(fin_alpha, fin_cor))\n",
    "tree_cor = fin_cor\n",
    "comp = pd.DataFrame({0: y_test[0], 1: y_pred_tree.reshape(len(y_pred_tree))})\n",
    "y_pred_sorted = comp.sort_values(1, ascending=False)[0]\n",
    "y_pred_tree = y_pred_sorted"
   ]
  },
  {
   "cell_type": "markdown",
   "id": "96ab1090",
   "metadata": {},
   "source": [
    "### Model 4 : Random Forest Regression"
   ]
  },
  {
   "cell_type": "code",
   "execution_count": 11,
   "id": "0a224234",
   "metadata": {},
   "outputs": [
    {
     "name": "stdout",
     "output_type": "stream",
     "text": [
      "alpha: 0.0500, CORR: 0.4273\n"
     ]
    }
   ],
   "source": [
    "min_mse = 1E20\n",
    "fin_alpha = 0\n",
    "fin_NE = 0\n",
    "fin_cor = -1\n",
    "\n",
    "for alpha in np.linspace(0, 0.5, 11):\n",
    "    for n_e  in np.linspace(10, 100, 10):\n",
    "        regressor = RandomForestRegressor(n_estimators = int(n_e), ccp_alpha = alpha, random_state = 1)\n",
    "        regressor.fit(X = X_train, y = np.array(y_train).reshape(len(y_train), ))\n",
    "        y_pred = regressor.predict(X_test)\n",
    "        y_train_pred = regressor.predict(X_train)\n",
    "        MSE = mean_squared_error(y_test, y_pred)\n",
    "        cor = np.corrcoef(np.array(y_test).reshape(len(y_test)), np.array(y_pred).reshape(len(y_pred)))\n",
    "        if cor[1, 0] > fin_cor:\n",
    "            fin_alpha = alpha\n",
    "            fin_cor = cor[1, 0]\n",
    "            y_pred_for = y_pred\n",
    "print('alpha: {:1.4f}, CORR: {:1.4f}'.format(fin_alpha, fin_cor))\n",
    "for_cor = fin_cor\n",
    "comp = pd.DataFrame({0: y_test[0], 1: y_pred_for.reshape(len(y_pred_for))})\n",
    "y_pred_sorted = comp.sort_values(1, ascending=False)[0]\n",
    "y_pred_for = y_pred_sorted"
   ]
  },
  {
   "cell_type": "code",
   "execution_count": 12,
   "id": "4eb63a9e",
   "metadata": {},
   "outputs": [
    {
     "data": {
      "text/plain": [
       "0"
      ]
     },
     "execution_count": 12,
     "metadata": {},
     "output_type": "execute_result"
    }
   ],
   "source": [
    "fin_NE"
   ]
  },
  {
   "cell_type": "markdown",
   "id": "50c41f84",
   "metadata": {},
   "source": [
    "### Model 5 : Neural Network"
   ]
  },
  {
   "cell_type": "markdown",
   "id": "4398a4d3",
   "metadata": {},
   "source": [
    "For neural network, the input data is scaled between 0 and 1."
   ]
  },
  {
   "cell_type": "code",
   "execution_count": 13,
   "id": "cf6063ae",
   "metadata": {},
   "outputs": [],
   "source": [
    "# standardize through years\n",
    "def nor_scale_split(data, year_names):\n",
    "    scaler = MinMaxScaler()\n",
    "\n",
    "    X_train_result = pd.DataFrame()\n",
    "    X_test_result = pd.DataFrame()\n",
    "    y_train_result = pd.DataFrame()\n",
    "    y_test_result = pd.DataFrame()\n",
    "    for i in year_names:\n",
    "        \n",
    "        data_year = data[data['year_y']==i]\n",
    "        data_year = data_year.drop(columns='year_y')\n",
    "        \n",
    "        X = data_year.iloc[:, :-1]\n",
    "        y = data_year.iloc[:, -1]\n",
    "        \n",
    "        X_train, X_test, y_train, y_test = train_test_split(X, y, test_size = 0.25, random_state = 1)\n",
    "        train_scaled = scaler.fit_transform(X_train)\n",
    "        test_scaled = scaler.transform(X_test)\n",
    "        \n",
    "        X_train_result = pd.concat([X_train_result, pd.DataFrame(train_scaled)])\n",
    "        X_test_result = pd.concat([X_test_result, pd.DataFrame(test_scaled)])\n",
    "        y_train_result = pd.concat([y_train_result, y_train])\n",
    "        y_test_result = pd.concat([y_test_result, y_test])\n",
    "        \n",
    "    return X_train_result, X_test_result, y_train_result, y_test_result\n",
    "\n",
    "X_train, X_test, y_train, y_test = nor_scale_split(NEW_data, year_names)"
   ]
  },
  {
   "cell_type": "markdown",
   "id": "7ccd148a",
   "metadata": {},
   "source": [
    "Selecting the best parameter for the neural network model"
   ]
  },
  {
   "cell_type": "code",
   "execution_count": 14,
   "id": "47855bef",
   "metadata": {
    "scrolled": true
   },
   "outputs": [
    {
     "name": "stdout",
     "output_type": "stream",
     "text": [
      "layer size: 16.0000, batch size: 45.0000, CORR: 0.6534\n"
     ]
    }
   ],
   "source": [
    "best_cor = 0\n",
    "best_bat = 0\n",
    "best_size = 0\n",
    "\n",
    "for size1 in [int(i) for i in np.linspace(5, 20, 16)]:\n",
    "    for bat in [int(i) for i in np.linspace(0, 100, 21)]:\n",
    "        NNRegressor = MLPRegressor(hidden_layer_sizes = (size1), batch_size = bat, \n",
    "                                   activation = 'logistic', random_state= 1)\n",
    "        NNRegressor.fit(X_train, y_train)\n",
    "        y_pred = NNRegressor.predict(X_test)\n",
    "        NN_cor = np.corrcoef(np.array(y_test).reshape(len(y_test)), np.array(y_pred).reshape(len(y_pred)))\n",
    "        NN_cor = NN_cor[1, 0]\n",
    "        if NN_cor > best_cor:\n",
    "            best_cor = NN_cor\n",
    "            best_size = size1\n",
    "            best_bat = bat\n",
    "            y_pred_NN = y_pred\n",
    "print('layer size: {:1.4f}, batch size: {:1.4f}, CORR: {:1.4f}'.format(best_size, best_bat, best_cor))\n",
    "NN_cor = best_cor\n",
    "comp = pd.DataFrame({0: y_test[0], 1: y_pred_NN.reshape(len(y_pred_NN))})\n",
    "y_pred_sorted = comp.sort_values(1, ascending=False)[0]\n",
    "y_pred_NN = y_pred_sorted"
   ]
  },
  {
   "cell_type": "markdown",
   "id": "dae3f8e4",
   "metadata": {},
   "source": [
    "### Model Comparison Using Correlation Coefficient and Lift Chart"
   ]
  },
  {
   "cell_type": "code",
   "execution_count": 15,
   "id": "1e475a20",
   "metadata": {},
   "outputs": [
    {
     "name": "stdout",
     "output_type": "stream",
     "text": [
      "Linear regression: 0.6673\n",
      "SVR: 0.4868\n",
      "Decision tree: 0.3836\n",
      "Random forest: 0.4273\n",
      "Neural Network: 0.6534\n"
     ]
    }
   ],
   "source": [
    "print('Linear regression: {:1.4f}'.format(lin_cor))\n",
    "print('SVR: {:1.4f}'.format(SVR_cor))\n",
    "print('Decision tree: {:1.4f}'.format(tree_cor))\n",
    "print('Random forest: {:1.4f}'.format(for_cor))\n",
    "print('Neural Network: {:1.4f}'.format(NN_cor))"
   ]
  },
  {
   "cell_type": "code",
   "execution_count": 16,
   "id": "22cf8c22",
   "metadata": {},
   "outputs": [
    {
     "data": {
      "image/png": "[encoded data removed]",
      "text/plain": [
       "<Figure size 576x432 with 1 Axes>"
      ]
     },
     "metadata": {
      "needs_background": "light"
     },
     "output_type": "display_data"
    }
   ],
   "source": [
    "ax = gainsChart(pd.Series(y_pred_lin), label = 'Linear Regression',figsize = [8, 6], color = 'C0')\n",
    "ax = gainsChart(pd.Series(y_pred_SVR), label = 'SVR', ax = ax, color = 'C1')\n",
    "ax = gainsChart(pd.Series(y_pred_tree), label = 'Decision Tree', ax = ax, color = 'C2')\n",
    "ax = gainsChart(pd.Series(y_pred_for), label = 'Forest', ax = ax, color = 'C3')\n",
    "ax = gainsChart(pd.Series(y_pred_NN), label = 'Neural Network', ax = ax, color = 'C4')\n",
    "plt.title('MVP Award Prediction Lift Chart')\n",
    "plt.legend()\n",
    "plt.show()"
   ]
  },
  {
   "cell_type": "markdown",
   "id": "11329bb9",
   "metadata": {},
   "source": [
    "# Evaluation"
   ]
  },
  {
   "cell_type": "markdown",
   "id": "64097ceb",
   "metadata": {},
   "source": [
    "## Linear Regression"
   ]
  },
  {
   "cell_type": "markdown",
   "id": "b66f45d5",
   "metadata": {},
   "source": [
    "### Summary"
   ]
  },
  {
   "cell_type": "code",
   "execution_count": 17,
   "id": "d4cf2121",
   "metadata": {
    "scrolled": true
   },
   "outputs": [
    {
     "name": "stdout",
     "output_type": "stream",
     "text": [
      "Model: linear regression\n",
      "\n",
      "\n",
      "Regression statistics\n",
      "\n",
      "                      Mean Error (ME) : -0.0171\n",
      "       Root Mean Squared Error (RMSE) : 0.1603\n",
      "            Mean Absolute Error (MAE) : 0.1254\n",
      "          Mean Percentage Error (MPE) : -192.2601\n",
      "Mean Absolute Percentage Error (MAPE) : 922.2176\n",
      "\n",
      "CORR: 0.6673\n",
      "RMSE: 0.1603\n"
     ]
    }
   ],
   "source": [
    "# preprocessing\n",
    "X_train, X_test, y_train, y_test = std_scale_split(NEW_data, year_names)\n",
    "\n",
    "# build model\n",
    "regressor = LinearRegression()\n",
    "regressor.fit(X_train, y_train)\n",
    "\n",
    "# model summary\n",
    "y_pred = regressor.predict(X_test)\n",
    "y_train_pred = regressor.predict(X_train)\n",
    "\n",
    "print('Model: linear regression\\n')\n",
    "regressionSummary(y_test, y_pred)\n",
    "\n",
    "# evaluations\n",
    "cor = np.corrcoef(np.array(y_test).reshape(len(y_test)), np.array(y_pred).reshape(len(y_pred)))\n",
    "lin_cor = cor[1, 0]\n",
    "\n",
    "lin_RMSE = mean_squared_error(np.array(y_test).reshape(len(y_test)), np.array(y_pred).reshape(len(y_pred)))**0.5\n",
    "print('\\nCORR: {:1.4f}'.format(lin_cor))\n",
    "print('RMSE: {:1.4f}'.format(lin_RMSE))"
   ]
  },
  {
   "cell_type": "markdown",
   "id": "87faa294",
   "metadata": {},
   "source": [
    "### Visualization"
   ]
  },
  {
   "cell_type": "code",
   "execution_count": 18,
   "id": "927865d5",
   "metadata": {
    "scrolled": false
   },
   "outputs": [
    {
     "data": {
      "image/png": "[encoded data removed]",
      "text/plain": [
       "<Figure size 432x288 with 1 Axes>"
      ]
     },
     "metadata": {
      "needs_background": "light"
     },
     "output_type": "display_data"
    }
   ],
   "source": [
    "ax = gainsChart(pd.Series(y_pred_lin), label = 'Linear regression')\n",
    "plt.title('Linear Regression Gains Chart')\n",
    "plt.show()"
   ]
  },
  {
   "cell_type": "markdown",
   "id": "b0a62ad6",
   "metadata": {},
   "source": [
    "## Neural network"
   ]
  },
  {
   "cell_type": "code",
   "execution_count": 19,
   "id": "0c6a793a",
   "metadata": {},
   "outputs": [
    {
     "name": "stdout",
     "output_type": "stream",
     "text": [
      "Model: Neural network\n",
      "\n",
      "\n",
      "Regression statistics\n",
      "\n",
      "                      Mean Error (ME) : -0.0010\n",
      "       Root Mean Squared Error (RMSE) : 0.1532\n",
      "            Mean Absolute Error (MAE) : 0.1210\n",
      "          Mean Percentage Error (MPE) : -159.7415\n",
      "Mean Absolute Percentage Error (MAPE) : 1077.7663\n",
      "\n",
      "CORR: 0.6534\n",
      "RMSE: 0.1532\n"
     ]
    }
   ],
   "source": [
    "# preprocessing\n",
    "X_train, X_test, y_train, y_test = nor_scale_split(NEW_data, year_names)\n",
    "\n",
    "# build model\n",
    "NN = MLPRegressor(hidden_layer_sizes = (16), batch_size = 45, \n",
    "                                   activation = 'logistic', random_state= 1)\n",
    "NN.fit(X_train, y_train)\n",
    "\n",
    "# model summary\n",
    "y_pred = NN.predict(X_test)\n",
    "y_train_pred = NN.predict(X_train)\n",
    "\n",
    "print('Model: Neural network\\n')\n",
    "regressionSummary(y_test, y_pred)\n",
    "\n",
    "# evaluations\n",
    "cor = np.corrcoef(np.array(y_test).reshape(len(y_test)), np.array(y_pred).reshape(len(y_pred)))\n",
    "NN_cor = cor[1, 0]\n",
    "\n",
    "NN_RMSE = mean_squared_error(np.array(y_test).reshape(len(y_test)), np.array(y_pred).reshape(len(y_pred)))**0.5\n",
    "print('\\nCORR: {:1.4f}'.format(NN_cor))\n",
    "print('RMSE: {:1.4f}'.format(NN_RMSE))"
   ]
  },
  {
   "cell_type": "markdown",
   "id": "9304f31f",
   "metadata": {},
   "source": [
    "### Visualization"
   ]
  },
  {
   "cell_type": "code",
   "execution_count": 20,
   "id": "8fbc0d5a",
   "metadata": {},
   "outputs": [
    {
     "data": {
      "image/png": "[encoded data removed]",
      "text/plain": [
       "<Figure size 432x288 with 1 Axes>"
      ]
     },
     "metadata": {
      "needs_background": "light"
     },
     "output_type": "display_data"
    }
   ],
   "source": [
    "ax = gainsChart(pd.Series(y_pred_NN), label = 'Neural Network')\n",
    "plt.title('Neural Network Gains Chart (layer size: 16, batch size: 45)')\n",
    "plt.show()"
   ]
  },
  {
   "cell_type": "markdown",
   "id": "ddccd222",
   "metadata": {},
   "source": [
    "# Prediction"
   ]
  },
  {
   "cell_type": "code",
   "execution_count": 21,
   "id": "d9ad6137",
   "metadata": {},
   "outputs": [],
   "source": [
    "data_2022['G_x'] = data_2022['G_x'].astype(int)\n",
    "NEW_2022 = data_2022.drop(del_col, axis = 1)\n",
    "NEW_2022 = NEW_2022.drop('Rk', axis = 1)\n",
    "player_list = NEW_2022['Player']\n",
    "NEW_2022 = NEW_2022.drop('Player', axis = 1)"
   ]
  },
  {
   "cell_type": "code",
   "execution_count": 22,
   "id": "ad1ec1db",
   "metadata": {},
   "outputs": [],
   "source": [
    "scaler = StandardScaler()\n",
    "scaled_2022 = scaler.fit_transform(NEW_2022)\n",
    "pred_22_lin = regressor.predict(scaled_2022)"
   ]
  },
  {
   "cell_type": "code",
   "execution_count": 23,
   "id": "c5a8ec7f",
   "metadata": {},
   "outputs": [],
   "source": [
    "scaler = MinMaxScaler()\n",
    "scaled_2022 = scaler.fit_transform(NEW_2022)\n",
    "pred_22_NN = NN.predict(scaled_2022)"
   ]
  },
  {
   "cell_type": "code",
   "execution_count": 24,
   "id": "c89abc21",
   "metadata": {},
   "outputs": [],
   "source": [
    "NEW_2022['Player'] = player_list\n",
    "NEW_2022['share_lin'] = pred_22_lin\n",
    "NEW_2022['share_NN'] = pred_22_NN"
   ]
  },
  {
   "cell_type": "markdown",
   "id": "80143599",
   "metadata": {},
   "source": [
    "#### Linear regression prediction"
   ]
  },
  {
   "cell_type": "code",
   "execution_count": 25,
   "id": "0f17baff",
   "metadata": {},
   "outputs": [
    {
     "data": {
      "text/html": [
       "<div>\n",
       "<style scoped>\n",
       "    .dataframe tbody tr th:only-of-type {\n",
       "        vertical-align: middle;\n",
       "    }\n",
       "\n",
       "    .dataframe tbody tr th {\n",
       "        vertical-align: top;\n",
       "    }\n",
       "\n",
       "    .dataframe thead th {\n",
       "        text-align: right;\n",
       "    }\n",
       "</style>\n",
       "<table border=\"1\" class=\"dataframe\">\n",
       "  <thead>\n",
       "    <tr style=\"text-align: right;\">\n",
       "      <th></th>\n",
       "      <th>Player</th>\n",
       "      <th>share_lin</th>\n",
       "    </tr>\n",
       "  </thead>\n",
       "  <tbody>\n",
       "    <tr>\n",
       "      <th>715</th>\n",
       "      <td>Nikola Jokić\\jokicni01</td>\n",
       "      <td>1.043004</td>\n",
       "    </tr>\n",
       "    <tr>\n",
       "      <th>27</th>\n",
       "      <td>Giannis Antetokounmpo\\antetgi01</td>\n",
       "      <td>0.941525</td>\n",
       "    </tr>\n",
       "    <tr>\n",
       "      <th>1292</th>\n",
       "      <td>Jayson Tatum\\tatumja01</td>\n",
       "      <td>0.805944</td>\n",
       "    </tr>\n",
       "    <tr>\n",
       "      <th>1470</th>\n",
       "      <td>Trae Young\\youngtr01</td>\n",
       "      <td>0.796768</td>\n",
       "    </tr>\n",
       "    <tr>\n",
       "      <th>292</th>\n",
       "      <td>Luka Dončić\\doncilu01</td>\n",
       "      <td>0.794076</td>\n",
       "    </tr>\n",
       "  </tbody>\n",
       "</table>\n",
       "</div>"
      ],
      "text/plain": [
       "                               Player  share_lin\n",
       "715            Nikola Jokić\\jokicni01   1.043004\n",
       "27    Giannis Antetokounmpo\\antetgi01   0.941525\n",
       "1292           Jayson Tatum\\tatumja01   0.805944\n",
       "1470             Trae Young\\youngtr01   0.796768\n",
       "292             Luka Dončić\\doncilu01   0.794076"
      ]
     },
     "execution_count": 25,
     "metadata": {},
     "output_type": "execute_result"
    }
   ],
   "source": [
    "NEW_2022.sort_values('share_lin', ascending=False).head(5)[['Player', 'share_lin']]"
   ]
  },
  {
   "cell_type": "markdown",
   "id": "6de9a78d",
   "metadata": {},
   "source": [
    "#### Neural network prediction"
   ]
  },
  {
   "cell_type": "code",
   "execution_count": 26,
   "id": "113f3c76",
   "metadata": {},
   "outputs": [
    {
     "data": {
      "text/html": [
       "<div>\n",
       "<style scoped>\n",
       "    .dataframe tbody tr th:only-of-type {\n",
       "        vertical-align: middle;\n",
       "    }\n",
       "\n",
       "    .dataframe tbody tr th {\n",
       "        vertical-align: top;\n",
       "    }\n",
       "\n",
       "    .dataframe thead th {\n",
       "        text-align: right;\n",
       "    }\n",
       "</style>\n",
       "<table border=\"1\" class=\"dataframe\">\n",
       "  <thead>\n",
       "    <tr style=\"text-align: right;\">\n",
       "      <th></th>\n",
       "      <th>Player</th>\n",
       "      <th>share_NN</th>\n",
       "    </tr>\n",
       "  </thead>\n",
       "  <tbody>\n",
       "    <tr>\n",
       "      <th>715</th>\n",
       "      <td>Nikola Jokić\\jokicni01</td>\n",
       "      <td>0.578886</td>\n",
       "    </tr>\n",
       "    <tr>\n",
       "      <th>27</th>\n",
       "      <td>Giannis Antetokounmpo\\antetgi01</td>\n",
       "      <td>0.535241</td>\n",
       "    </tr>\n",
       "    <tr>\n",
       "      <th>292</th>\n",
       "      <td>Luka Dončić\\doncilu01</td>\n",
       "      <td>0.482910</td>\n",
       "    </tr>\n",
       "    <tr>\n",
       "      <th>344</th>\n",
       "      <td>Joel Embiid\\embiijo01</td>\n",
       "      <td>0.480215</td>\n",
       "    </tr>\n",
       "    <tr>\n",
       "      <th>1292</th>\n",
       "      <td>Jayson Tatum\\tatumja01</td>\n",
       "      <td>0.419424</td>\n",
       "    </tr>\n",
       "  </tbody>\n",
       "</table>\n",
       "</div>"
      ],
      "text/plain": [
       "                               Player  share_NN\n",
       "715            Nikola Jokić\\jokicni01  0.578886\n",
       "27    Giannis Antetokounmpo\\antetgi01  0.535241\n",
       "292             Luka Dončić\\doncilu01  0.482910\n",
       "344             Joel Embiid\\embiijo01  0.480215\n",
       "1292           Jayson Tatum\\tatumja01  0.419424"
      ]
     },
     "execution_count": 26,
     "metadata": {},
     "output_type": "execute_result"
    }
   ],
   "source": [
    "NEW_2022.sort_values('share_NN', ascending=False).head(5)[['Player', 'share_NN']]"
   ]
  },
  {
   "cell_type": "markdown",
   "id": "01ac552f",
   "metadata": {},
   "source": [
    "Both model predicted player *Nikola Jokic* to win the MVP award"
   ]
  },
  {
   "cell_type": "code",
   "execution_count": null,
   "id": "b06eeb54",
   "metadata": {},
   "outputs": [],
   "source": []
  }
 ],
 "metadata": {
  "kernelspec": {
   "display_name": "Python 3 (ipykernel)",
   "language": "python",
   "name": "python3"
  },
  "language_info": {
   "codemirror_mode": {
    "name": "ipython",
    "version": 3
   },
   "file_extension": ".py",
   "mimetype": "text/x-python",
   "name": "python",
   "nbconvert_exporter": "python",
   "pygments_lexer": "ipython3",
   "version": "3.9.13"
  }
 },
 "nbformat": 4,
 "nbformat_minor": 5
}
